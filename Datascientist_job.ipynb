{
 "cells": [
  {
   "cell_type": "markdown",
   "metadata": {},
   "source": [
    "# ELT Project\n",
    "Group: Jennifer Lawless, Mingming Chen, Jie Bai"
   ]
  },
  {
   "cell_type": "code",
   "execution_count": 1,
   "metadata": {},
   "outputs": [
    {
     "name": "stdout",
     "output_type": "stream",
     "text": [
      "Requirement already satisfied: psycopg2 in c:\\programdata\\anaconda3\\lib\\site-packages (2.8.3)\n"
     ]
    }
   ],
   "source": [
    "!pip install psycopg2"
   ]
  },
  {
   "cell_type": "code",
   "execution_count": 39,
   "metadata": {},
   "outputs": [],
   "source": [
    "import pandas as pd\n",
    "from sqlalchemy import create_engine\n",
    "import matplotlib.pyplot as plt\n",
    "import numpy as np\n",
    "from itertools import cycle, islice"
   ]
  },
  {
   "cell_type": "markdown",
   "metadata": {},
   "source": [
    "### Extract CSVs into DataFrames"
   ]
  },
  {
   "cell_type": "code",
   "execution_count": 3,
   "metadata": {},
   "outputs": [
    {
     "data": {
      "text/html": [
       "<div>\n",
       "<style scoped>\n",
       "    .dataframe tbody tr th:only-of-type {\n",
       "        vertical-align: middle;\n",
       "    }\n",
       "\n",
       "    .dataframe tbody tr th {\n",
       "        vertical-align: top;\n",
       "    }\n",
       "\n",
       "    .dataframe thead th {\n",
       "        text-align: right;\n",
       "    }\n",
       "</style>\n",
       "<table border=\"1\" class=\"dataframe\">\n",
       "  <thead>\n",
       "    <tr style=\"text-align: right;\">\n",
       "      <th></th>\n",
       "      <th>position</th>\n",
       "      <th>company</th>\n",
       "      <th>description</th>\n",
       "      <th>reviews</th>\n",
       "      <th>location</th>\n",
       "    </tr>\n",
       "  </thead>\n",
       "  <tbody>\n",
       "    <tr>\n",
       "      <th>0</th>\n",
       "      <td>Development Director</td>\n",
       "      <td>ALS TDI</td>\n",
       "      <td>Development Director\\nALS Therapy Development ...</td>\n",
       "      <td>NaN</td>\n",
       "      <td>Atlanta, GA 30301</td>\n",
       "    </tr>\n",
       "    <tr>\n",
       "      <th>1</th>\n",
       "      <td>An Ostentatiously-Excitable Principal Research...</td>\n",
       "      <td>The Hexagon Lavish</td>\n",
       "      <td>Job Description\\n\\n\"The road that leads to acc...</td>\n",
       "      <td>NaN</td>\n",
       "      <td>Atlanta, GA</td>\n",
       "    </tr>\n",
       "  </tbody>\n",
       "</table>\n",
       "</div>"
      ],
      "text/plain": [
       "                                            position             company  \\\n",
       "0                               Development Director             ALS TDI   \n",
       "1  An Ostentatiously-Excitable Principal Research...  The Hexagon Lavish   \n",
       "\n",
       "                                         description  reviews  \\\n",
       "0  Development Director\\nALS Therapy Development ...      NaN   \n",
       "1  Job Description\\n\\n\"The road that leads to acc...      NaN   \n",
       "\n",
       "             location  \n",
       "0  Atlanta, GA 30301   \n",
       "1         Atlanta, GA  "
      ]
     },
     "execution_count": 3,
     "metadata": {},
     "output_type": "execute_result"
    }
   ],
   "source": [
    "csv_file = 'Resources/alldata.csv'\n",
    "datascientist_locations = pd.read_csv(csv_file)\n",
    "datascientist_locations.head(2)"
   ]
  },
  {
   "cell_type": "code",
   "execution_count": 4,
   "metadata": {},
   "outputs": [
    {
     "data": {
      "text/html": [
       "<div>\n",
       "<style scoped>\n",
       "    .dataframe tbody tr th:only-of-type {\n",
       "        vertical-align: middle;\n",
       "    }\n",
       "\n",
       "    .dataframe tbody tr th {\n",
       "        vertical-align: top;\n",
       "    }\n",
       "\n",
       "    .dataframe thead th {\n",
       "        text-align: right;\n",
       "    }\n",
       "</style>\n",
       "<table border=\"1\" class=\"dataframe\">\n",
       "  <thead>\n",
       "    <tr style=\"text-align: right;\">\n",
       "      <th></th>\n",
       "      <th>Unnamed: 0</th>\n",
       "      <th>Job_Title</th>\n",
       "      <th>Link</th>\n",
       "      <th>Queried_Salary</th>\n",
       "      <th>Job_Type</th>\n",
       "      <th>Skill</th>\n",
       "      <th>Unnamed: 6</th>\n",
       "      <th>No_of_Skills</th>\n",
       "      <th>Company</th>\n",
       "      <th>No_of_Reviews</th>\n",
       "      <th>...</th>\n",
       "      <th>MD</th>\n",
       "      <th>DC</th>\n",
       "      <th>NC</th>\n",
       "      <th>Other_states</th>\n",
       "      <th>Consulting and Business Services</th>\n",
       "      <th>Internet and Software</th>\n",
       "      <th>Banks and Financial Services</th>\n",
       "      <th>Health Care</th>\n",
       "      <th>Insurance</th>\n",
       "      <th>Other_industries</th>\n",
       "    </tr>\n",
       "  </thead>\n",
       "  <tbody>\n",
       "    <tr>\n",
       "      <th>0</th>\n",
       "      <td>0</td>\n",
       "      <td>Data Scientist</td>\n",
       "      <td>https://www.indeed.com/rc/clk?jk=6a105f495c36a...</td>\n",
       "      <td>&lt;80000</td>\n",
       "      <td>data_scientist</td>\n",
       "      <td>SAP, SQL</td>\n",
       "      <td>NaN</td>\n",
       "      <td>2</td>\n",
       "      <td>Express Scripts</td>\n",
       "      <td>3301.0</td>\n",
       "      <td>...</td>\n",
       "      <td>0</td>\n",
       "      <td>0</td>\n",
       "      <td>0</td>\n",
       "      <td>1</td>\n",
       "      <td>0</td>\n",
       "      <td>0</td>\n",
       "      <td>0</td>\n",
       "      <td>1</td>\n",
       "      <td>0</td>\n",
       "      <td>0</td>\n",
       "    </tr>\n",
       "    <tr>\n",
       "      <th>1</th>\n",
       "      <td>1</td>\n",
       "      <td>Data Scientist</td>\n",
       "      <td>https://www.indeed.com/rc/clk?jk=86afd561ea8c6...</td>\n",
       "      <td>&lt;80000</td>\n",
       "      <td>data_scientist</td>\n",
       "      <td>Machine Learning, R, SAS, SQL, Python</td>\n",
       "      <td>NaN</td>\n",
       "      <td>5</td>\n",
       "      <td>Money Mart Financial Services</td>\n",
       "      <td>NaN</td>\n",
       "      <td>...</td>\n",
       "      <td>0</td>\n",
       "      <td>0</td>\n",
       "      <td>0</td>\n",
       "      <td>0</td>\n",
       "      <td>0</td>\n",
       "      <td>0</td>\n",
       "      <td>0</td>\n",
       "      <td>0</td>\n",
       "      <td>0</td>\n",
       "      <td>0</td>\n",
       "    </tr>\n",
       "  </tbody>\n",
       "</table>\n",
       "<p>2 rows × 44 columns</p>\n",
       "</div>"
      ],
      "text/plain": [
       "   Unnamed: 0       Job_Title  \\\n",
       "0           0  Data Scientist   \n",
       "1           1  Data Scientist   \n",
       "\n",
       "                                                Link Queried_Salary  \\\n",
       "0  https://www.indeed.com/rc/clk?jk=6a105f495c36a...         <80000   \n",
       "1  https://www.indeed.com/rc/clk?jk=86afd561ea8c6...         <80000   \n",
       "\n",
       "         Job_Type                                  Skill  Unnamed: 6  \\\n",
       "0  data_scientist                               SAP, SQL         NaN   \n",
       "1  data_scientist  Machine Learning, R, SAS, SQL, Python         NaN   \n",
       "\n",
       "   No_of_Skills                        Company  No_of_Reviews  ...  MD  DC NC  \\\n",
       "0             2                Express Scripts         3301.0  ...   0   0  0   \n",
       "1             5  Money Mart Financial Services            NaN  ...   0   0  0   \n",
       "\n",
       "  Other_states Consulting and Business Services Internet and Software  \\\n",
       "0            1                                0                     0   \n",
       "1            0                                0                     0   \n",
       "\n",
       "  Banks and Financial Services  Health Care  Insurance  Other_industries  \n",
       "0                            0            1          0                 0  \n",
       "1                            0            0          0                 0  \n",
       "\n",
       "[2 rows x 44 columns]"
      ]
     },
     "execution_count": 4,
     "metadata": {},
     "output_type": "execute_result"
    }
   ],
   "source": [
    "csv_file1 = 'Resources/indeed_job_dataset.csv'\n",
    "datascientist_skills = pd.read_csv(csv_file1)\n",
    "datascientist_skills.head(2)"
   ]
  },
  {
   "cell_type": "markdown",
   "metadata": {},
   "source": [
    "### Transform location DataFrame"
   ]
  },
  {
   "cell_type": "code",
   "execution_count": 5,
   "metadata": {},
   "outputs": [
    {
     "data": {
      "text/plain": [
       "position    6953\n",
       "company     6953\n",
       "location    6953\n",
       "dtype: int64"
      ]
     },
     "execution_count": 5,
     "metadata": {},
     "output_type": "execute_result"
    }
   ],
   "source": [
    "# Create a filtered dataframe from specific columns\n",
    "datascientist_locations = datascientist_locations[['position','company','location']].copy()\n",
    "datascientist_locations.head(2)\n",
    "\n",
    "# Clean the data by dropping NaN rows\n",
    "datascientist_locations = datascientist_locations.dropna(how='any')\n",
    "# Verify the dropped rows\n",
    "datascientist_locations.count()"
   ]
  },
  {
   "cell_type": "markdown",
   "metadata": {},
   "source": [
    "### Transform Skill DataFrame "
   ]
  },
  {
   "cell_type": "code",
   "execution_count": 6,
   "metadata": {},
   "outputs": [
    {
     "data": {
      "text/plain": [
       "job_type    5384\n",
       "skill       5384\n",
       "company     5384\n",
       "dtype: int64"
      ]
     },
     "execution_count": 6,
     "metadata": {},
     "output_type": "execute_result"
    }
   ],
   "source": [
    "# Create a filtered dataframe from specific columns\n",
    "datascientist_skills = datascientist_skills[['Job_Type','Skill','Company']].copy()\n",
    "datascientist_skills.head(2)\n",
    "\n",
    "# Rename the column headers\n",
    "datascientist_skills = datascientist_skills.rename(columns={\"Job_Type\": \"job_type\",\n",
    "                                                         \"Skill\": \"skill\",\n",
    "                                                         \"Company\": \"company\"})\n",
    "\n",
    "# Clean the data by dropping NaN rows\n",
    "datascientist_skills = datascientist_skills.dropna(how='any')\n",
    "# Verify the dropped rows\n",
    "datascientist_skills.count()"
   ]
  },
  {
   "cell_type": "markdown",
   "metadata": {},
   "source": [
    "### Create database connection"
   ]
  },
  {
   "cell_type": "code",
   "execution_count": 7,
   "metadata": {},
   "outputs": [],
   "source": [
    "connection_string = \"postgres:changeme@localhost:5432/data_job\"\n",
    "engine = create_engine(f'postgresql://{connection_string}')"
   ]
  },
  {
   "cell_type": "code",
   "execution_count": 8,
   "metadata": {},
   "outputs": [
    {
     "data": {
      "text/plain": [
       "['datascience_location', 'datascience_skill', 'data_location']"
      ]
     },
     "execution_count": 8,
     "metadata": {},
     "output_type": "execute_result"
    }
   ],
   "source": [
    "# Confirm tables\n",
    "engine.table_names()"
   ]
  },
  {
   "cell_type": "markdown",
   "metadata": {},
   "source": [
    "### Load DataFrames into database"
   ]
  },
  {
   "cell_type": "code",
   "execution_count": 9,
   "metadata": {},
   "outputs": [],
   "source": [
    "datascientist_locations.to_sql(name='datascience_location', con=engine, if_exists='append', index=False)"
   ]
  },
  {
   "cell_type": "code",
   "execution_count": 10,
   "metadata": {},
   "outputs": [],
   "source": [
    "datascientist_skills.to_sql(name='datascience_skill', con=engine, if_exists='append', index=False)"
   ]
  },
  {
   "cell_type": "code",
   "execution_count": 11,
   "metadata": {},
   "outputs": [
    {
     "data": {
      "text/html": [
       "<div>\n",
       "<style scoped>\n",
       "    .dataframe tbody tr th:only-of-type {\n",
       "        vertical-align: middle;\n",
       "    }\n",
       "\n",
       "    .dataframe tbody tr th {\n",
       "        vertical-align: top;\n",
       "    }\n",
       "\n",
       "    .dataframe thead th {\n",
       "        text-align: right;\n",
       "    }\n",
       "</style>\n",
       "<table border=\"1\" class=\"dataframe\">\n",
       "  <thead>\n",
       "    <tr style=\"text-align: right;\">\n",
       "      <th></th>\n",
       "      <th>position</th>\n",
       "      <th>company</th>\n",
       "      <th>location</th>\n",
       "    </tr>\n",
       "  </thead>\n",
       "  <tbody>\n",
       "    <tr>\n",
       "      <th>0</th>\n",
       "      <td>Development Director</td>\n",
       "      <td>ALS TDI</td>\n",
       "      <td>Atlanta, GA 30301</td>\n",
       "    </tr>\n",
       "    <tr>\n",
       "      <th>1</th>\n",
       "      <td>An Ostentatiously-Excitable Principal Research...</td>\n",
       "      <td>The Hexagon Lavish</td>\n",
       "      <td>Atlanta, GA</td>\n",
       "    </tr>\n",
       "  </tbody>\n",
       "</table>\n",
       "</div>"
      ],
      "text/plain": [
       "                                            position             company  \\\n",
       "0                               Development Director             ALS TDI   \n",
       "1  An Ostentatiously-Excitable Principal Research...  The Hexagon Lavish   \n",
       "\n",
       "             location  \n",
       "0  Atlanta, GA 30301   \n",
       "1         Atlanta, GA  "
      ]
     },
     "execution_count": 11,
     "metadata": {},
     "output_type": "execute_result"
    }
   ],
   "source": [
    "# Comfirm data has been added by querying the datascience_location table\n",
    "pd.read_sql_query('select * from datascience_location', con=engine).head(2)"
   ]
  },
  {
   "cell_type": "code",
   "execution_count": 12,
   "metadata": {},
   "outputs": [
    {
     "data": {
      "text/html": [
       "<div>\n",
       "<style scoped>\n",
       "    .dataframe tbody tr th:only-of-type {\n",
       "        vertical-align: middle;\n",
       "    }\n",
       "\n",
       "    .dataframe tbody tr th {\n",
       "        vertical-align: top;\n",
       "    }\n",
       "\n",
       "    .dataframe thead th {\n",
       "        text-align: right;\n",
       "    }\n",
       "</style>\n",
       "<table border=\"1\" class=\"dataframe\">\n",
       "  <thead>\n",
       "    <tr style=\"text-align: right;\">\n",
       "      <th></th>\n",
       "      <th>job_type</th>\n",
       "      <th>skill</th>\n",
       "      <th>company</th>\n",
       "    </tr>\n",
       "  </thead>\n",
       "  <tbody>\n",
       "    <tr>\n",
       "      <th>0</th>\n",
       "      <td>data_scientist</td>\n",
       "      <td>SAP, SQL</td>\n",
       "      <td>Express Scripts</td>\n",
       "    </tr>\n",
       "    <tr>\n",
       "      <th>1</th>\n",
       "      <td>data_scientist</td>\n",
       "      <td>Machine Learning, R, SAS, SQL, Python</td>\n",
       "      <td>Money Mart Financial Services</td>\n",
       "    </tr>\n",
       "  </tbody>\n",
       "</table>\n",
       "</div>"
      ],
      "text/plain": [
       "         job_type                                  skill  \\\n",
       "0  data_scientist                               SAP, SQL   \n",
       "1  data_scientist  Machine Learning, R, SAS, SQL, Python   \n",
       "\n",
       "                         company  \n",
       "0                Express Scripts  \n",
       "1  Money Mart Financial Services  "
      ]
     },
     "execution_count": 12,
     "metadata": {},
     "output_type": "execute_result"
    }
   ],
   "source": [
    "# Comfirm data has been added by querying the datascience_skill table\n",
    "pd.read_sql_query('select * from datascience_skill', con=engine).head(2)"
   ]
  },
  {
   "cell_type": "markdown",
   "metadata": {},
   "source": [
    "### Simple Analysis"
   ]
  },
  {
   "cell_type": "code",
   "execution_count": 13,
   "metadata": {},
   "outputs": [
    {
     "data": {
      "text/plain": [
       "Seattle, WA                563\n",
       "New York, NY               508\n",
       "Cambridge, MA              487\n",
       "Boston, MA                 454\n",
       "San Francisco, CA          425\n",
       "San Diego, CA              294\n",
       "Chicago, IL                292\n",
       "Boulder, CO                233\n",
       "Washington, DC             230\n",
       "Sunnyvale, CA              221\n",
       "Mountain View, CA          199\n",
       "Los Angeles, CA            187\n",
       "Austin, TX                 156\n",
       "Atlanta, GA                147\n",
       "Redmond, WA 98052          117\n",
       "Seattle, WA 98109           95\n",
       "Cambridge, MA 02139         95\n",
       "New York, NY 10016          83\n",
       "San Diego, CA 92121         71\n",
       "Cambridge, MA 02142         64\n",
       "South San Francisco, CA     53\n",
       "Chicago, IL 60654           45\n",
       "San Francisco, CA 94103     40\n",
       "Chicago, IL 60601           40\n",
       "Mountain View, CA 94043     39\n",
       "Redmond, WA                 39\n",
       "Seattle, WA 98101           34\n",
       "Seattle, WA 98104           34\n",
       "Cambridge, MA 02140         33\n",
       "Boston, MA 02116            31\n",
       "                          ... \n",
       "Short Hills, NJ              1\n",
       "San Francisco, CA 94122      1\n",
       "New York, NY 10019           1\n",
       "San Diego, CA 92154          1\n",
       "New York, NY 10012           1\n",
       "Los Angeles, CA 90006        1\n",
       "Mountain View, CA 94035      1\n",
       "Staten Island, NY            1\n",
       "Austin, TX 78723             1\n",
       "Chicago, IL 60631            1\n",
       "Hoboken, NJ 07030            1\n",
       "New York, NY 10032           1\n",
       "Kentfield, CA 94904          1\n",
       "Austin, TX 78751             1\n",
       "Newark, NJ 07105             1\n",
       "New York, NY 10055           1\n",
       "Austin, TX 78754             1\n",
       "Los Angeles, CA 90016        1\n",
       "Washington, DC 20422         1\n",
       "Walnut Creek, CA 94596       1\n",
       "New York, NY 10021           1\n",
       "San Francisco, CA 94117      1\n",
       "Washington, DC 20301         1\n",
       "Atlanta, GA 30339            1\n",
       "Washington, DC 20376         1\n",
       "New York, NY 10007           1\n",
       "Seattle, WA 98122            1\n",
       "Novato, CA 94949             1\n",
       "Chicago, IL 60646            1\n",
       "New York, NY 10032           1\n",
       "Name: location, Length: 382, dtype: int64"
      ]
     },
     "execution_count": 13,
     "metadata": {},
     "output_type": "execute_result"
    }
   ],
   "source": [
    "# Tanke a look at the states that have the most demands for data science ralated jobs\n",
    "datascientist_locations['location'].value_counts()"
   ]
  },
  {
   "cell_type": "code",
   "execution_count": 16,
   "metadata": {},
   "outputs": [
    {
     "data": {
      "text/html": [
       "<div>\n",
       "<style scoped>\n",
       "    .dataframe tbody tr th:only-of-type {\n",
       "        vertical-align: middle;\n",
       "    }\n",
       "\n",
       "    .dataframe tbody tr th {\n",
       "        vertical-align: top;\n",
       "    }\n",
       "\n",
       "    .dataframe thead th {\n",
       "        text-align: right;\n",
       "    }\n",
       "</style>\n",
       "<table border=\"1\" class=\"dataframe\">\n",
       "  <thead>\n",
       "    <tr style=\"text-align: right;\">\n",
       "      <th></th>\n",
       "      <th>state</th>\n",
       "      <th>percentage</th>\n",
       "    </tr>\n",
       "  </thead>\n",
       "  <tbody>\n",
       "    <tr>\n",
       "      <th>0</th>\n",
       "      <td>CA</td>\n",
       "      <td>0.309507</td>\n",
       "    </tr>\n",
       "    <tr>\n",
       "      <th>1</th>\n",
       "      <td>MA</td>\n",
       "      <td>0.190278</td>\n",
       "    </tr>\n",
       "    <tr>\n",
       "      <th>2</th>\n",
       "      <td>WA</td>\n",
       "      <td>0.134474</td>\n",
       "    </tr>\n",
       "    <tr>\n",
       "      <th>3</th>\n",
       "      <td>NY</td>\n",
       "      <td>0.133180</td>\n",
       "    </tr>\n",
       "    <tr>\n",
       "      <th>4</th>\n",
       "      <td>IL</td>\n",
       "      <td>0.067741</td>\n",
       "    </tr>\n",
       "    <tr>\n",
       "      <th>5</th>\n",
       "      <td>DC</td>\n",
       "      <td>0.048900</td>\n",
       "    </tr>\n",
       "    <tr>\n",
       "      <th>6</th>\n",
       "      <td>GA</td>\n",
       "      <td>0.038688</td>\n",
       "    </tr>\n",
       "    <tr>\n",
       "      <th>7</th>\n",
       "      <td>CO</td>\n",
       "      <td>0.036100</td>\n",
       "    </tr>\n",
       "    <tr>\n",
       "      <th>8</th>\n",
       "      <td>TX</td>\n",
       "      <td>0.031353</td>\n",
       "    </tr>\n",
       "    <tr>\n",
       "      <th>9</th>\n",
       "      <td>NJ</td>\n",
       "      <td>0.009780</td>\n",
       "    </tr>\n",
       "  </tbody>\n",
       "</table>\n",
       "</div>"
      ],
      "text/plain": [
       "  state  percentage\n",
       "0    CA    0.309507\n",
       "1    MA    0.190278\n",
       "2    WA    0.134474\n",
       "3    NY    0.133180\n",
       "4    IL    0.067741\n",
       "5    DC    0.048900\n",
       "6    GA    0.038688\n",
       "7    CO    0.036100\n",
       "8    TX    0.031353\n",
       "9    NJ    0.009780"
      ]
     },
     "execution_count": 16,
     "metadata": {},
     "output_type": "execute_result"
    }
   ],
   "source": [
    "# Create a dataframe that list the top10 states that provide most datascientist jobs with the count percentage \n",
    "location_distribution = pd.DataFrame({\n",
    "    \"state\":[\"CA\",\"WA\",\"NY\",\"MA\",\"IL\",\"CO\",\"DC\",\"TX\",\"GA\",\"NJ\"],\n",
    "    \"percentage\":[datascientist_locations['location'].str.contains('CA').value_counts()[True]/6953,\n",
    "                  datascientist_locations['location'].str.contains('WA').value_counts()[True]/6953,\n",
    "                  datascientist_locations['location'].str.contains('NY').value_counts()[True]/6953,\n",
    "                  datascientist_locations['location'].str.contains('MA').value_counts()[True]/6953,\n",
    "                  datascientist_locations['location'].str.contains('IL').value_counts()[True]/6953,\n",
    "                  datascientist_locations['location'].str.contains('CO').value_counts()[True]/6953,\n",
    "                  datascientist_locations['location'].str.contains('DC').value_counts()[True]/6953,\n",
    "                  datascientist_locations['location'].str.contains('TX').value_counts()[True]/6953,\n",
    "                  datascientist_locations['location'].str.contains('GA').value_counts()[True]/6953,\n",
    "                  datascientist_locations['location'].str.contains('NJ').value_counts()[True]/6953]\n",
    "})\n",
    "location_distribution = data_location.sort_values(\"percentage\", ascending=False)\n",
    "location_distribution = data_location.reset_index(drop=True)\n",
    "location_distribution"
   ]
  },
  {
   "cell_type": "code",
   "execution_count": 17,
   "metadata": {},
   "outputs": [
    {
     "data": {
      "text/html": [
       "<div>\n",
       "<style scoped>\n",
       "    .dataframe tbody tr th:only-of-type {\n",
       "        vertical-align: middle;\n",
       "    }\n",
       "\n",
       "    .dataframe tbody tr th {\n",
       "        vertical-align: top;\n",
       "    }\n",
       "\n",
       "    .dataframe thead th {\n",
       "        text-align: right;\n",
       "    }\n",
       "</style>\n",
       "<table border=\"1\" class=\"dataframe\">\n",
       "  <thead>\n",
       "    <tr style=\"text-align: right;\">\n",
       "      <th></th>\n",
       "      <th>state</th>\n",
       "      <th>percentage</th>\n",
       "    </tr>\n",
       "  </thead>\n",
       "  <tbody>\n",
       "    <tr>\n",
       "      <th>0</th>\n",
       "      <td>CA</td>\n",
       "      <td>0.309507</td>\n",
       "    </tr>\n",
       "    <tr>\n",
       "      <th>1</th>\n",
       "      <td>MA</td>\n",
       "      <td>0.190278</td>\n",
       "    </tr>\n",
       "    <tr>\n",
       "      <th>2</th>\n",
       "      <td>WA</td>\n",
       "      <td>0.134474</td>\n",
       "    </tr>\n",
       "    <tr>\n",
       "      <th>3</th>\n",
       "      <td>NY</td>\n",
       "      <td>0.133180</td>\n",
       "    </tr>\n",
       "    <tr>\n",
       "      <th>4</th>\n",
       "      <td>IL</td>\n",
       "      <td>0.067741</td>\n",
       "    </tr>\n",
       "    <tr>\n",
       "      <th>5</th>\n",
       "      <td>DC</td>\n",
       "      <td>0.048900</td>\n",
       "    </tr>\n",
       "    <tr>\n",
       "      <th>6</th>\n",
       "      <td>GA</td>\n",
       "      <td>0.038688</td>\n",
       "    </tr>\n",
       "    <tr>\n",
       "      <th>7</th>\n",
       "      <td>CO</td>\n",
       "      <td>0.036100</td>\n",
       "    </tr>\n",
       "    <tr>\n",
       "      <th>8</th>\n",
       "      <td>TX</td>\n",
       "      <td>0.031353</td>\n",
       "    </tr>\n",
       "    <tr>\n",
       "      <th>9</th>\n",
       "      <td>NJ</td>\n",
       "      <td>0.009780</td>\n",
       "    </tr>\n",
       "  </tbody>\n",
       "</table>\n",
       "</div>"
      ],
      "text/plain": [
       "  state  percentage\n",
       "0    CA    0.309507\n",
       "1    MA    0.190278\n",
       "2    WA    0.134474\n",
       "3    NY    0.133180\n",
       "4    IL    0.067741\n",
       "5    DC    0.048900\n",
       "6    GA    0.038688\n",
       "7    CO    0.036100\n",
       "8    TX    0.031353\n",
       "9    NJ    0.009780"
      ]
     },
     "execution_count": 17,
     "metadata": {},
     "output_type": "execute_result"
    }
   ],
   "source": [
    "# Load dataframe into SQL database\n",
    "location_distribution.to_sql(name='location_distribution', con=engine, if_exists='append', index=False)\n",
    "pd.read_sql_query('select * from location_distribution', con=engine)"
   ]
  },
  {
   "cell_type": "code",
   "execution_count": 40,
   "metadata": {},
   "outputs": [
    {
     "data": {
      "text/plain": [
       "<function matplotlib.pyplot.show(*args, **kw)>"
      ]
     },
     "execution_count": 40,
     "metadata": {},
     "output_type": "execute_result"
    },
    {
     "data": {
      "image/png": "[encoded data removed]",
      "text/plain": [
       "<Figure size 432x288 with 1 Axes>"
      ]
     },
     "metadata": {
      "needs_background": "light"
     },
     "output_type": "display_data"
    }
   ],
   "source": [
    "#Plot the bar chart for location distribution\n",
    "my_colors = list(islice(cycle(['b','r','g','y','k']), None, len(location_distribution)))\n",
    "distribution_chart = location_distribution.plot(kind='bar', stacked = True, color=my_colors)\n",
    "distribution_chart.set_xlabel(\"State\")\n",
    "distribution_chart.set_ylabel(\"Job demand percentage\")\n",
    "\n",
    "plt.show"
   ]
  }
 ],
 "metadata": {
  "kernelspec": {
   "display_name": "Python 3",
   "language": "python",
   "name": "python3"
  },
  "language_info": {
   "codemirror_mode": {
    "name": "ipython",
    "version": 3
   },
   "file_extension": ".py",
   "mimetype": "text/x-python",
   "name": "python",
   "nbconvert_exporter": "python",
   "pygments_lexer": "ipython3",
   "version": "3.6.9"
  }
 },
 "nbformat": 4,
 "nbformat_minor": 2
}
